{
 "cells": [
  {
   "cell_type": "code",
   "execution_count": 22,
   "metadata": {
    "scrolled": true
   },
   "outputs": [
    {
     "name": "stdout",
     "output_type": "stream",
     "text": [
      "\n",
      "\n",
      "ITERAÇÃO=0\n"
     ]
    },
    {
     "name": "stderr",
     "output_type": "stream",
     "text": [
      "<UciProtocol (pid=13856)>: Unexpected engine output: \n"
     ]
    },
    {
     "name": "stdout",
     "output_type": "stream",
     "text": [
      "YOUR AGENT PLAYED AN ILEGAL MOVE 'e3e8' (e3e2) - it will try again1.0\n",
      "YOUR AGENT PLAYED AN ILEGAL MOVE 'e3e7' (e3e2) - it will try again2.0\n",
      "\t YOUR AGENT PLAYED e3a3 and stockfish would have played e3e2\n",
      "\n",
      "\n",
      "ITERAÇÃO=1\n",
      "\n",
      "\n",
      "ITERAÇÃO=2\n",
      "\t YOUR AGENT PLAYED a3a8 and stockfish would have played a3e3\n",
      "\n",
      "\n",
      "ITERAÇÃO=3\n",
      "\n",
      "\n",
      "ITERAÇÃO=4\n",
      "repeated\n",
      "repeated\n",
      "repeated\n",
      "repeated\n",
      "repeated\n",
      "\n",
      "\n",
      "ITERAÇÃO=5\n",
      "\n",
      "\n",
      "ITERAÇÃO=6\n",
      "repeated\n",
      "repeated\n",
      "\n",
      "\n",
      "ITERAÇÃO=7\n",
      "\n",
      "\n",
      "ITERAÇÃO=8\n",
      "\t YOUR AGENT PLAYED a8a7 and stockfish would have played a8a1\n",
      "\n",
      "\n",
      "ITERAÇÃO=9\n",
      "\n",
      "\n",
      "ITERAÇÃO=10\n",
      "\t YOUR AGENT PLAYED a7a8 and stockfish would have played a7a5\n",
      "\n",
      "\n",
      "ITERAÇÃO=11\n",
      "\n",
      "\n",
      "ITERAÇÃO=12\n",
      "\t YOUR AGENT PLAYED a8a7 and stockfish would have played a8a5\n",
      "\n",
      "\n",
      "ITERAÇÃO=13\n",
      "\n",
      "\n",
      "ITERAÇÃO=14\n",
      "\t YOUR AGENT PLAYED a7a8 and stockfish would have played a7e7\n",
      "\n",
      "\n",
      "ITERAÇÃO=15\n",
      "\n",
      "\n",
      "ITERAÇÃO=16\n",
      "repeated\n",
      "repeated\n",
      "\n",
      "\n",
      "ITERAÇÃO=17\n",
      "\n",
      "\n",
      "ITERAÇÃO=18\n",
      "\n",
      "\n",
      "ITERAÇÃO=19\n",
      "\n",
      "\n",
      "ITERAÇÃO=20\n",
      "\n",
      "\n",
      "ITERAÇÃO=21\n",
      "\n",
      "\n",
      "ITERAÇÃO=22\n",
      "\n",
      "\n",
      "ITERAÇÃO=23\n",
      "\n",
      "\n",
      "ITERAÇÃO=24\n",
      "repeated\n",
      "repeated\n",
      "repeated\n",
      "repeated\n",
      "repeated\n",
      "repeated\n",
      "repeated\n",
      "repeated\n",
      "repeated\n",
      "repeated\n",
      "repeated\n",
      "repeated\n",
      "repeated\n",
      "repeated\n",
      "repeated\n",
      "repeated\n",
      "repeated\n",
      "repeated\n",
      "repeated\n",
      "repeated\n",
      "\n",
      "\n",
      "ITERAÇÃO=25\n",
      "\n",
      "\n",
      "ITERAÇÃO=26\n",
      "\t YOUR AGENT PLAYED a8a7 and stockfish would have played a8a5\n",
      "\n",
      "\n",
      "ITERAÇÃO=27\n",
      "\n",
      "\n",
      "ITERAÇÃO=28\n",
      "\t YOUR AGENT PLAYED a7a8 and stockfish would have played a7a5\n",
      "\n",
      "\n",
      "ITERAÇÃO=29\n",
      "\n",
      "\n",
      "ITERAÇÃO=30\n",
      "\t YOUR AGENT PLAYED a8a7 and stockfish would have played a8c8\n",
      "\n",
      "\n",
      "ITERAÇÃO=31\n",
      "\n",
      "\n",
      "ITERAÇÃO=32\n",
      "\t YOUR AGENT PLAYED a7a8 and stockfish would have played a7c7\n",
      "\n",
      "\n",
      "ITERAÇÃO=33\n",
      "\n",
      "\n",
      "ITERAÇÃO=34\n",
      "\t YOUR AGENT PLAYED a8a7 and stockfish would have played a8c8\n",
      "\n",
      "\n",
      "ITERAÇÃO=35\n",
      "\n",
      "\n",
      "ITERAÇÃO=36\n",
      "\t YOUR AGENT PLAYED a7a8 and stockfish would have played a7c7\n",
      "\n",
      "\n",
      "ITERAÇÃO=37\n",
      "\n",
      "\n",
      "ITERAÇÃO=38\n",
      "repeated\n",
      "repeated\n",
      "repeated\n",
      "repeated\n",
      "\n",
      "\n",
      "ITERAÇÃO=39\n",
      "\n",
      "\n",
      "ITERAÇÃO=40\n",
      "\n",
      "\n",
      "ITERAÇÃO=41\n",
      "\n",
      "\n",
      "ITERAÇÃO=42\n",
      "repeated\n",
      "\n",
      "\n",
      "ITERAÇÃO=43\n",
      "\n",
      "\n",
      "ITERAÇÃO=44\n",
      "\n",
      "\n",
      "ITERAÇÃO=45\n",
      "\n",
      "\n",
      "ITERAÇÃO=46\n",
      "\t YOUR AGENT PLAYED a8a7 and stockfish would have played a8a5\n",
      "\n",
      "\n",
      "ITERAÇÃO=47\n",
      "\n",
      "\n",
      "ITERAÇÃO=48\n",
      "repeated\n",
      "\n",
      "\n",
      "ITERAÇÃO=49\n",
      "\n",
      "\n",
      "ITERAÇÃO=50\n",
      "\n",
      "\n",
      "ITERAÇÃO=51\n",
      "\n",
      "\n",
      "ITERAÇÃO=52\n",
      "repeated\n",
      "repeated\n",
      "repeated\n",
      "repeated\n",
      "repeated\n",
      "repeated\n",
      "repeated\n",
      "\n",
      "\n",
      "ITERAÇÃO=53\n",
      "\n",
      "\n",
      "ITERAÇÃO=54\n",
      "\n",
      "\n",
      "ITERAÇÃO=55\n",
      "\n",
      "\n",
      "ITERAÇÃO=56\n",
      "repeated\n",
      "repeated\n",
      "repeated\n",
      "repeated\n",
      "repeated\n",
      "\n",
      "\n",
      "ITERAÇÃO=57\n",
      "\n",
      "\n",
      "ITERAÇÃO=58\n",
      "\n",
      "\n",
      "ITERAÇÃO=59\n",
      "(0.0, 13.0, 2.0)\n"
     ]
    }
   ],
   "source": [
    "from AgentsPlayGround import AgentsPlayGround\n",
    "from ipywidgets import interact, fixed\n",
    "from board import SimpleBoard\n",
    "\n",
    "\n",
    "jeffrey = AgentsPlayGround()\n",
    "p = jeffrey.rooks\n",
    "p.loadWeights()\n",
    "\n",
    "#test_board = 'r3k2r/8/8/8/8/8/8/R3K2R w - - 0 1' # 2 rooks\n",
    "#test_board = 'r3k3/8/8/8/8/8/8/4K2R w - - 0 1' # 1 rook, right\n",
    "#test_board = '4k2r/8/8/8/8/8/8/R3K3 w - - 0 1' # 1 rook, left\n",
    "test_board = '4k3/8/8/4p3/8/4R3/8/4K3 w - - 0 1' # simple line test\n",
    "#test_board = '4k3/8/8/8/8/8/8/R3K2R w - - 0 1' # 2rooks+K vs k\n",
    "stats = jeffrey.testOneAgentAgainstRandom(jeffrey.rooks, initial_board=test_board)\n",
    "\n",
    "print(stats)"
   ]
  },
  {
   "cell_type": "code",
   "execution_count": 21,
   "metadata": {},
   "outputs": [
    {
     "data": {
      "application/vnd.jupyter.widget-view+json": {
       "model_id": "ed1960e752bc46809d6f9179594777bd",
       "version_major": 2,
       "version_minor": 0
      },
      "text/plain": [
       "interactive(children=(IntSlider(value=0, description='m', max=36), Output()), _dom_classes=('widget-interact',…"
      ]
     },
     "metadata": {},
     "output_type": "display_data"
    }
   ],
   "source": [
    "board = jeffrey.board\n",
    "board_copy = SimpleBoard()\n",
    "board_copy = SimpleBoard(test_board)\n",
    "copied_moves = 0\n",
    "\n",
    "@interact(m=(0,len(jeffrey.board.move_stack)), board=fixed(jeffrey.board))\n",
    "def show_board_at_move(m=0, board=jeffrey.board):\n",
    "    global board_copy, copied_moves\n",
    "    if copied_moves > m:\n",
    "        for i in range(copied_moves - m):\n",
    "            board_copy.pop()\n",
    "    elif copied_moves < m:\n",
    "        for move in board.move_stack[copied_moves:m]:\n",
    "            board_copy.push(move)\n",
    "    copied_moves = m\n",
    "    return board_copy"
   ]
  },
  {
   "cell_type": "code",
   "execution_count": 3,
   "metadata": {},
   "outputs": [
    {
     "data": {
      "text/plain": [
       "False"
      ]
     },
     "execution_count": 3,
     "metadata": {},
     "output_type": "execute_result"
    }
   ],
   "source": [
    "board.is_game_over()"
   ]
  },
  {
   "cell_type": "code",
   "execution_count": 28,
   "metadata": {},
   "outputs": [
    {
     "name": "stdout",
     "output_type": "stream",
     "text": [
      "80721/80721 [==============================] - ETA: 9:37 - loss: 2.9493 - accuracy: 0.25 - ETA: 31s - loss: 2.9549 - accuracy: 0.2784 - ETA: 18s - loss: 2.9448 - accuracy: 0.289 - ETA: 16s - loss: 2.9487 - accuracy: 0.287 - ETA: 13s - loss: 2.9550 - accuracy: 0.282 - ETA: 12s - loss: 2.9554 - accuracy: 0.284 - ETA: 11s - loss: 2.9566 - accuracy: 0.283 - ETA: 10s - loss: 2.9579 - accuracy: 0.281 - ETA: 9s - loss: 2.9561 - accuracy: 0.284 - ETA: 9s - loss: 2.9583 - accuracy: 0.28 - ETA: 8s - loss: 2.9587 - accuracy: 0.28 - ETA: 8s - loss: 2.9565 - accuracy: 0.28 - ETA: 7s - loss: 2.9564 - accuracy: 0.28 - ETA: 7s - loss: 2.9589 - accuracy: 0.28 - ETA: 7s - loss: 2.9589 - accuracy: 0.28 - ETA: 7s - loss: 2.9589 - accuracy: 0.28 - ETA: 7s - loss: 2.9594 - accuracy: 0.28 - ETA: 7s - loss: 2.9594 - accuracy: 0.28 - ETA: 7s - loss: 2.9611 - accuracy: 0.28 - ETA: 7s - loss: 2.9605 - accuracy: 0.28 - ETA: 7s - loss: 2.9614 - accuracy: 0.27 - ETA: 7s - loss: 2.9607 - accuracy: 0.28 - ETA: 7s - loss: 2.9613 - accuracy: 0.28 - ETA: 7s - loss: 2.9614 - accuracy: 0.28 - ETA: 7s - loss: 2.9605 - accuracy: 0.28 - ETA: 7s - loss: 2.9606 - accuracy: 0.28 - ETA: 7s - loss: 2.9610 - accuracy: 0.28 - ETA: 7s - loss: 2.9606 - accuracy: 0.28 - ETA: 7s - loss: 2.9608 - accuracy: 0.28 - ETA: 7s - loss: 2.9612 - accuracy: 0.28 - ETA: 7s - loss: 2.9608 - accuracy: 0.28 - ETA: 7s - loss: 2.9608 - accuracy: 0.28 - ETA: 7s - loss: 2.9607 - accuracy: 0.28 - ETA: 7s - loss: 2.9600 - accuracy: 0.28 - ETA: 7s - loss: 2.9599 - accuracy: 0.28 - ETA: 7s - loss: 2.9597 - accuracy: 0.28 - ETA: 7s - loss: 2.9585 - accuracy: 0.28 - ETA: 7s - loss: 2.9585 - accuracy: 0.28 - ETA: 7s - loss: 2.9580 - accuracy: 0.28 - ETA: 7s - loss: 2.9579 - accuracy: 0.28 - ETA: 7s - loss: 2.9578 - accuracy: 0.28 - ETA: 6s - loss: 2.9577 - accuracy: 0.28 - ETA: 6s - loss: 2.9574 - accuracy: 0.28 - ETA: 6s - loss: 2.9578 - accuracy: 0.28 - ETA: 6s - loss: 2.9579 - accuracy: 0.28 - ETA: 6s - loss: 2.9574 - accuracy: 0.28 - ETA: 6s - loss: 2.9574 - accuracy: 0.28 - ETA: 6s - loss: 2.9581 - accuracy: 0.28 - ETA: 6s - loss: 2.9580 - accuracy: 0.28 - ETA: 6s - loss: 2.9575 - accuracy: 0.28 - ETA: 6s - loss: 2.9574 - accuracy: 0.28 - ETA: 6s - loss: 2.9578 - accuracy: 0.28 - ETA: 6s - loss: 2.9577 - accuracy: 0.28 - ETA: 6s - loss: 2.9576 - accuracy: 0.28 - ETA: 6s - loss: 2.9574 - accuracy: 0.28 - ETA: 6s - loss: 2.9574 - accuracy: 0.28 - ETA: 6s - loss: 2.9575 - accuracy: 0.28 - ETA: 6s - loss: 2.9572 - accuracy: 0.28 - ETA: 6s - loss: 2.9573 - accuracy: 0.28 - ETA: 6s - loss: 2.9577 - accuracy: 0.28 - ETA: 6s - loss: 2.9576 - accuracy: 0.28 - ETA: 6s - loss: 2.9579 - accuracy: 0.28 - ETA: 6s - loss: 2.9580 - accuracy: 0.28 - ETA: 6s - loss: 2.9582 - accuracy: 0.28 - ETA: 6s - loss: 2.9578 - accuracy: 0.28 - ETA: 6s - loss: 2.9577 - accuracy: 0.28 - ETA: 6s - loss: 2.9573 - accuracy: 0.28 - ETA: 6s - loss: 2.9578 - accuracy: 0.28 - ETA: 6s - loss: 2.9577 - accuracy: 0.28 - ETA: 6s - loss: 2.9574 - accuracy: 0.28 - ETA: 6s - loss: 2.9574 - accuracy: 0.28 - ETA: 6s - loss: 2.9576 - accuracy: 0.28 - ETA: 6s - loss: 2.9578 - accuracy: 0.28 - ETA: 5s - loss: 2.9576 - accuracy: 0.28 - ETA: 5s - loss: 2.9579 - accuracy: 0.28 - ETA: 5s - loss: 2.9583 - accuracy: 0.28 - ETA: 5s - loss: 2.9583 - accuracy: 0.28 - ETA: 5s - loss: 2.9583 - accuracy: 0.28 - ETA: 5s - loss: 2.9577 - accuracy: 0.28 - ETA: 5s - loss: 2.9579 - accuracy: 0.28 - ETA: 4s - loss: 2.9577 - accuracy: 0.28 - ETA: 4s - loss: 2.9581 - accuracy: 0.28 - ETA: 4s - loss: 2.9580 - accuracy: 0.28 - ETA: 4s - loss: 2.9580 - accuracy: 0.28 - ETA: 4s - loss: 2.9577 - accuracy: 0.28 - ETA: 4s - loss: 2.9575 - accuracy: 0.28 - ETA: 4s - loss: 2.9577 - accuracy: 0.28 - ETA: 4s - loss: 2.9574 - accuracy: 0.28 - ETA: 3s - loss: 2.9579 - accuracy: 0.28 - ETA: 3s - loss: 2.9579 - accuracy: 0.28 - ETA: 3s - loss: 2.9575 - accuracy: 0.28 - ETA: 3s - loss: 2.9574 - accuracy: 0.28 - ETA: 3s - loss: 2.9571 - accuracy: 0.28 - ETA: 3s - loss: 2.9573 - accuracy: 0.28 - ETA: 3s - loss: 2.9573 - accuracy: 0.28 - ETA: 2s - loss: 2.9574 - accuracy: 0.28 - ETA: 2s - loss: 2.9572 - accuracy: 0.28 - ETA: 2s - loss: 2.9575 - accuracy: 0.28 - ETA: 2s - loss: 2.9580 - accuracy: 0.28 - ETA: 2s - loss: 2.9580 - accuracy: 0.28 - ETA: 2s - loss: 2.9582 - accuracy: 0.28 - ETA: 2s - loss: 2.9585 - accuracy: 0.28 - ETA: 2s - loss: 2.9584 - accuracy: 0.28 - ETA: 2s - loss: 2.9586 - accuracy: 0.28 - ETA: 1s - loss: 2.9588 - accuracy: 0.28 - ETA: 1s - loss: 2.9588 - accuracy: 0.28 - ETA: 1s - loss: 2.9589 - accuracy: 0.28 - ETA: 1s - loss: 2.9588 - accuracy: 0.28 - ETA: 1s - loss: 2.9587 - accuracy: 0.28 - ETA: 1s - loss: 2.9589 - accuracy: 0.28 - ETA: 1s - loss: 2.9588 - accuracy: 0.28 - ETA: 1s - loss: 2.9587 - accuracy: 0.28 - ETA: 1s - loss: 2.9587 - accuracy: 0.28 - ETA: 1s - loss: 2.9586 - accuracy: 0.28 - ETA: 1s - loss: 2.9588 - accuracy: 0.28 - ETA: 0s - loss: 2.9588 - accuracy: 0.28 - ETA: 0s - loss: 2.9587 - accuracy: 0.28 - ETA: 0s - loss: 2.9587 - accuracy: 0.28 - ETA: 0s - loss: 2.9582 - accuracy: 0.28 - ETA: 0s - loss: 2.9581 - accuracy: 0.28 - ETA: 0s - loss: 2.9579 - accuracy: 0.28 - ETA: 0s - loss: 2.9582 - accuracy: 0.28 - ETA: 0s - loss: 2.9581 - accuracy: 0.28 - ETA: 0s - loss: 2.9577 - accuracy: 0.28 - ETA: 0s - loss: 2.9577 - accuracy: 0.28 - ETA: 0s - loss: 2.9576 - accuracy: 0.28 - 7s 82us/sample - loss: 2.9576 - accuracy: 0.2858\n"
     ]
    },
    {
     "data": {
      "text/plain": [
       "[2.9575965514768865, 0.2858488]"
      ]
     },
     "execution_count": 28,
     "metadata": {},
     "output_type": "execute_result"
    }
   ],
   "source": [
    "import numpy as np\n",
    "from Pawns import Pawns\n",
    "p = Pawns()\n",
    "p.loadStorage()\n",
    "p.loadWeights()\n",
    "p.createValandTestSets()\n",
    "p.network.evaluate(np.array(p.test_x), np.array(p.test_y))"
   ]
  },
  {
   "cell_type": "code",
   "execution_count": null,
   "metadata": {},
   "outputs": [],
   "source": [
    "import chess.svg\n",
    "print(chess.svg.board(board_copy))"
   ]
  },
  {
   "cell_type": "code",
   "execution_count": null,
   "metadata": {},
   "outputs": [],
   "source": [
    "str(board.move_stack)"
   ]
  },
  {
   "cell_type": "code",
   "execution_count": 3,
   "metadata": {},
   "outputs": [
    {
     "data": {
      "text/plain": [
       "<Rooks.Rooks at 0xf33c548>"
      ]
     },
     "execution_count": 3,
     "metadata": {},
     "output_type": "execute_result"
    }
   ],
   "source": [
    "p"
   ]
  },
  {
   "cell_type": "code",
   "execution_count": 9,
   "metadata": {},
   "outputs": [],
   "source": [
    "p.createValandTestSets()"
   ]
  },
  {
   "cell_type": "code",
   "execution_count": 13,
   "metadata": {},
   "outputs": [],
   "source": [
    "from collections import Counter\n",
    "\n"
   ]
  },
  {
   "cell_type": "code",
   "execution_count": 19,
   "metadata": {},
   "outputs": [
    {
     "data": {
      "text/plain": [
       "{22: 0.04484766628288017,\n",
       " 2: 0.06106633601983881,\n",
       " 13: 0.1415618634310513,\n",
       " 4: 0.029824639093082986,\n",
       " 5: 0.04703967761934284,\n",
       " 27: 0.022274377823044905,\n",
       " 26: 0.06656850588964662,\n",
       " 6: 0.044936232397484725,\n",
       " 21: 0.013284917190682845,\n",
       " 12: 0.0966809848551944,\n",
       " 20: 0.04241209813125498,\n",
       " 0: 0.07753963333628554,\n",
       " 25: 0.03162917367815074,\n",
       " 9: 0.021455141262952795,\n",
       " 11: 0.03996545921530423,\n",
       " 3: 0.035149676733681696,\n",
       " 8: 0.02757727393499247,\n",
       " 10: 0.02573952705694801,\n",
       " 1: 0.04196926755823222,\n",
       " 24: 0.017082189354353024,\n",
       " 7: 0.02287219909662563,\n",
       " 23: 0.026171286865645203,\n",
       " 19: 0.0037862013993446107,\n",
       " 15: 0.00149455318395182,\n",
       " 18: 0.008535559295013729,\n",
       " 16: 0.003033389425205916,\n",
       " 17: 0.0030555309538570544,\n",
       " 14: 0.002446638915950757}"
      ]
     },
     "execution_count": 19,
     "metadata": {},
     "output_type": "execute_result"
    }
   ],
   "source": [
    "c = Counter(p.train_y)\n",
    "{k:c[k]/sum(c.values()) for k in c.keys()}"
   ]
  },
  {
   "cell_type": "code",
   "execution_count": null,
   "metadata": {},
   "outputs": [],
   "source": []
  }
 ],
 "metadata": {
  "kernelspec": {
   "display_name": "Python 3",
   "language": "python",
   "name": "python3"
  },
  "language_info": {
   "codemirror_mode": {
    "name": "ipython",
    "version": 3
   },
   "file_extension": ".py",
   "mimetype": "text/x-python",
   "name": "python",
   "nbconvert_exporter": "python",
   "pygments_lexer": "ipython3",
   "version": "3.7.7"
  }
 },
 "nbformat": 4,
 "nbformat_minor": 4
}
