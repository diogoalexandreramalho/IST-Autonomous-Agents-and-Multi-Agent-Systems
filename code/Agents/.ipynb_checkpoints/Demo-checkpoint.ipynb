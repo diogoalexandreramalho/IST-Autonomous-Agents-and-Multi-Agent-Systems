{
 "cells": [
  {
   "cell_type": "code",
   "execution_count": 15,
   "metadata": {
    "scrolled": true
   },
   "outputs": [],
   "source": [
    "%%capture\n",
    "import warnings\n",
    "warnings.filterwarnings(action='once')\n",
    "from AgentsPlayGround import AgentsPlayGround\n",
    "from ipywidgets import interact, fixed\n",
    "from board import SimpleBoard\n",
    "from KingsDecision import KingsDecision\n",
    "\n",
    "#jeffrey.pawns\n",
    "#jeffrey.horses\n",
    "#jeffrey.bishops\n",
    "#jeffrey.rooks\n",
    "#jeffrey.queen\n",
    "#jeffrey.king\n",
    "\n",
    "jeffrey = AgentsPlayGround()\n",
    "jeffrey.loadWeights()\n",
    "\n",
    "\n",
    "\n",
    "#jeffrey.testOneAgentAgainstRandom(jeffrey.horses)\n",
    "#jeffrey.testKingsDecision()\n",
    "\n",
    "jeffrey.testAllAgentsAgainstRandom()    \n",
    "#jeffrey.testAllAgentsWKingsDecision()\n",
    "\n",
    "\n"
   ]
  },
  {
   "cell_type": "code",
   "execution_count": 16,
   "metadata": {},
   "outputs": [
    {
     "data": {
      "application/vnd.jupyter.widget-view+json": {
       "model_id": "43b493f6ead84f9bb1479c6e86fd2b85",
       "version_major": 2,
       "version_minor": 0
      },
      "text/plain": [
       "interactive(children=(IntSlider(value=0, description='m', max=200), Output()), _dom_classes=('widget-interact'…"
      ]
     },
     "metadata": {},
     "output_type": "display_data"
    }
   ],
   "source": [
    "board = jeffrey.board\n",
    "board_copy = SimpleBoard()\n",
    "copied_moves = 0\n",
    "\n",
    "@interact(m=(0,len(board.move_stack)), board=fixed(board))\n",
    "def show_board_at_move(m=0, board=board):\n",
    "    global board_copy, copied_moves\n",
    "    if copied_moves > m:\n",
    "        for i in range(copied_moves - m):\n",
    "            board_copy.pop()\n",
    "    elif copied_moves < m:\n",
    "        for move in board.move_stack[copied_moves:m]:\n",
    "            board_copy.push(move)\n",
    "    copied_moves = m\n",
    "    return board_copy"
   ]
  },
  {
   "cell_type": "code",
   "execution_count": null,
   "metadata": {},
   "outputs": [],
   "source": []
  }
 ],
 "metadata": {
  "kernelspec": {
   "display_name": "Python 3",
   "language": "python",
   "name": "python3"
  },
  "language_info": {
   "codemirror_mode": {
    "name": "ipython",
    "version": 3
   },
   "file_extension": ".py",
   "mimetype": "text/x-python",
   "name": "python",
   "nbconvert_exporter": "python",
   "pygments_lexer": "ipython3",
   "version": "3.8.2"
  }
 },
 "nbformat": 4,
 "nbformat_minor": 4
}
