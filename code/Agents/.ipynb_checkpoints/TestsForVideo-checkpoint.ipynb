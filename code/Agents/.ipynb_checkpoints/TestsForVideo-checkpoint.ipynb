{
 "cells": [
  {
   "cell_type": "code",
   "execution_count": 1,
   "metadata": {},
   "outputs": [
    {
     "ename": "SyntaxError",
     "evalue": "invalid syntax (<ipython-input-1-2067b49b6093>, line 1)",
     "output_type": "error",
     "traceback": [
      "\u001b[0;36m  File \u001b[0;32m\"<ipython-input-1-2067b49b6093>\"\u001b[0;36m, line \u001b[0;32m1\u001b[0m\n\u001b[0;31m    import python-chess\u001b[0m\n\u001b[0m                 ^\u001b[0m\n\u001b[0;31mSyntaxError\u001b[0m\u001b[0;31m:\u001b[0m invalid syntax\n"
     ]
    }
   ],
   "source": [
    "import IPython\n",
    "import chess\n",
    "from IPython.display import display, HTML, clear_output\n",
    "import AgentsPlayGround\n",
    "from AgentsPlayGround import AgentsPlayGround\n",
    "from ipywidgets import interact, fixed\n",
    "from board import SimpleBoard\n",
    "\n",
    "#display(HTML(\"<style>div.output_scroll { height: 44em; }</style>\"))\n",
    "\n",
    "jeffrey = AgentsPlayGround()\n",
    "jeffrey.load_network_tuner()\n",
    "jeffrey.kingsDecision.network.summary()\n",
    "#jeffrey.loadStorage()\n",
    "jeffrey.loadWeights()\n",
    "\n",
    "\n",
    "\n",
    "jeffrey.testAllAgentsWKingsDecision()\n",
    "   \n",
    "\n",
    "\n",
    "\"\"\"\n",
    "board = jeffrey.board\n",
    "board_copy = SimpleBoard()\n",
    "copied_moves = 0\n",
    "\n",
    "@interact(m=(0,len(board.move_stack)), board=fixed(board))\n",
    "def show_board_at_move(m=0, board=board):\n",
    "    global board_copy, copied_moves\n",
    "    if copied_moves > m:\n",
    "        for i in range(copied_moves - m):\n",
    "            board_copy.pop()\n",
    "    elif copied_moves < m:\n",
    "        for move in board.move_stack[copied_moves:m]:\n",
    "            board_copy.push(move)\n",
    "    copied_moves = m\n",
    "    return board_copy\n",
    "\"\"\"\n",
    "\n"
   ]
  },
  {
   "cell_type": "code",
   "execution_count": null,
   "metadata": {},
   "outputs": [],
   "source": []
  }
 ],
 "metadata": {
  "kernelspec": {
   "display_name": "Python 3",
   "language": "python",
   "name": "python3"
  },
  "language_info": {
   "codemirror_mode": {
    "name": "ipython",
    "version": 3
   },
   "file_extension": ".py",
   "mimetype": "text/x-python",
   "name": "python",
   "nbconvert_exporter": "python",
   "pygments_lexer": "ipython3",
   "version": "3.8.2"
  }
 },
 "nbformat": 4,
 "nbformat_minor": 4
}
