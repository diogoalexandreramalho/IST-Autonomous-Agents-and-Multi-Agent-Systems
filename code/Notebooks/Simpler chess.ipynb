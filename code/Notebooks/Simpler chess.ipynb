{
 "cells": [
  {
   "cell_type": "code",
   "execution_count": 1,
   "metadata": {},
   "outputs": [
    {
     "ename": "ModuleNotFoundError",
     "evalue": "No module named 'MAd'",
     "output_type": "error",
     "traceback": [
      "\u001b[0;31m---------------------------------------------------------------------------\u001b[0m",
      "\u001b[0;31mModuleNotFoundError\u001b[0m                       Traceback (most recent call last)",
      "\u001b[0;32m<ipython-input-1-a7eabdb667e3>\u001b[0m in \u001b[0;36m<module>\u001b[0;34m\u001b[0m\n\u001b[1;32m      1\u001b[0m \u001b[0;32mimport\u001b[0m \u001b[0mchess\u001b[0m\u001b[0;34m,\u001b[0m \u001b[0mchess\u001b[0m\u001b[0;34m.\u001b[0m\u001b[0msvg\u001b[0m\u001b[0;34m\u001b[0m\u001b[0;34m\u001b[0m\u001b[0m\n\u001b[0;32m----> 2\u001b[0;31m \u001b[0;32mfrom\u001b[0m \u001b[0mMAd\u001b[0m\u001b[0;34m.\u001b[0m\u001b[0mboard\u001b[0m \u001b[0;32mimport\u001b[0m \u001b[0mSimpleBoard\u001b[0m\u001b[0;34m\u001b[0m\u001b[0;34m\u001b[0m\u001b[0m\n\u001b[0m\u001b[1;32m      3\u001b[0m \u001b[0;34m\u001b[0m\u001b[0m\n\u001b[1;32m      4\u001b[0m \u001b[0mb\u001b[0m \u001b[0;34m=\u001b[0m \u001b[0mSimpleBoard\u001b[0m\u001b[0;34m(\u001b[0m\u001b[0;34m)\u001b[0m\u001b[0;34m\u001b[0m\u001b[0;34m\u001b[0m\u001b[0m\n",
      "\u001b[0;31mModuleNotFoundError\u001b[0m: No module named 'MAd'"
     ]
    }
   ],
   "source": [
    "import sys\n",
    "sys.path.append(\"../\")\n",
    "import chess, chess.svg\n",
    "from MAd.board import SimpleBoard\n",
    "\n",
    "b = SimpleBoard()"
   ]
  },
  {
   "cell_type": "code",
   "execution_count": null,
   "metadata": {},
   "outputs": [],
   "source": [
    "# no en-passant captures\n",
    "b = SimpleBoard()\n",
    "b.push_san('e4')\n",
    "b.push_san('h5')\n",
    "b.push_san('e5')\n",
    "b.push_san('d5')\n",
    "chess.svg.board(board=b, squares=[m.to_square for m in b.legal_moves])"
   ]
  },
  {
   "cell_type": "code",
   "execution_count": null,
   "metadata": {},
   "outputs": [],
   "source": [
    "# no castling\n",
    "b = SimpleBoard()\n",
    "b.push_san('e4')\n",
    "b.push_san('h5')\n",
    "b.push_san('e5')\n",
    "b.push_san('d6')\n",
    "b.push_san('Be2')\n",
    "b.push_san('e5')\n",
    "b.push_san('Nh3')\n",
    "b.push_san('h4')\n",
    "chess.svg.board(board=b, squares=[m.to_square for m in b.legal_moves])"
   ]
  },
  {
   "cell_type": "code",
   "execution_count": null,
   "metadata": {},
   "outputs": [],
   "source": [
    "all(not b.is_castling(m) for m in b.legal_moves)"
   ]
  },
  {
   "cell_type": "code",
   "execution_count": null,
   "metadata": {},
   "outputs": [],
   "source": [
    "# no pawn promotions\n",
    "b = SimpleBoard()\n",
    "b.push_san('e4')\n",
    "b.push_san('h5')\n",
    "b.push_san('e5')\n",
    "b.push_san('d6')\n",
    "b.push_san('Be2')\n",
    "b.push_san('e5')\n",
    "b.push_san('Nh3')\n",
    "b.push_san('h4')\n",
    "b.push_san('Kf1')\n",
    "b.push_san('e4')\n",
    "b.push_san('Kg1')\n",
    "b.push_san('e3')\n",
    "b.push_san('Bd3')\n",
    "b.push_san('e2')\n",
    "b.push_san('Bc4')\n",
    "chess.svg.board(board=b, squares=[m.to_square for m in b.legal_moves])"
   ]
  },
  {
   "cell_type": "code",
   "execution_count": null,
   "metadata": {},
   "outputs": [],
   "source": [
    "all(m.promotion == None for m in b.legal_moves)"
   ]
  },
  {
   "cell_type": "code",
   "execution_count": null,
   "metadata": {},
   "outputs": [],
   "source": [
    "list(b.generate_legal_moves_from(chess.C8))"
   ]
  },
  {
   "cell_type": "code",
   "execution_count": null,
   "metadata": {},
   "outputs": [],
   "source": [
    "list(b.generate_legal_captures(from_mask=chess.BB_C8))"
   ]
  }
 ],
 "metadata": {
  "kernelspec": {
   "display_name": "Python 3",
   "language": "python",
   "name": "python3"
  },
  "language_info": {
   "codemirror_mode": {
    "name": "ipython",
    "version": 3
   },
   "file_extension": ".py",
   "mimetype": "text/x-python",
   "name": "python",
   "nbconvert_exporter": "python",
   "pygments_lexer": "ipython3",
   "version": "3.6.9"
  }
 },
 "nbformat": 4,
 "nbformat_minor": 2
}
